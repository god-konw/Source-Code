{
  "cells": [
    {
      "cell_type": "markdown",
      "metadata": {
        "id": "view-in-github",
        "colab_type": "text"
      },
      "source": [
        "<a href=\"https://colab.research.google.com/github/god-konw/Source-Code/blob/master/1_DataProcessT.ipynb\" target=\"_parent\"><img src=\"https://colab.research.google.com/assets/colab-badge.svg\" alt=\"Open In Colab\"/></a>"
      ]
    },
    {
      "cell_type": "code",
      "execution_count": null,
      "metadata": {
        "colab": {
          "base_uri": "https://localhost:8080/"
        },
        "id": "vVVSOkVkKmho",
        "outputId": "dedadc7b-1e4c-4a2a-e202-8e80bd0c0e27"
      },
      "outputs": [
        {
          "output_type": "stream",
          "name": "stdout",
          "text": [
            "Mounted at /content/drive\n"
          ]
        }
      ],
      "source": [
        "import os\n",
        "from google.colab import drive\n",
        "drive.mount('/content/drive', force_remount=True) "
      ]
    },
    {
      "cell_type": "code",
      "execution_count": null,
      "metadata": {
        "id": "xw1HuH5dNWFS"
      },
      "outputs": [],
      "source": [
        "path = 'drive/MyDrive/Colab Notebooks/'"
      ]
    },
    {
      "cell_type": "code",
      "execution_count": null,
      "metadata": {
        "id": "exEpgCBIeZf9"
      },
      "outputs": [],
      "source": [
        "import numpy as np  # for array\n",
        "import pandas as pd  # for csv files and dataframe\n",
        "import matplotlib.pyplot as plt  # for plotting\n",
        "import seaborn as sns  # plotting\n",
        "from scipy import stats\n",
        "\n",
        "from sklearn.preprocessing import StandardScaler\n",
        "from sklearn.preprocessing import LabelEncoder, OneHotEncoder\n",
        "\n",
        "from sklearn.model_selection import train_test_split\n",
        "%matplotlib inline"
      ]
    },
    {
      "cell_type": "code",
      "execution_count": null,
      "metadata": {
        "id": "UwV3ZSFoU6tn"
      },
      "outputs": [],
      "source": [
        "train = pd.read_csv(path+'datasets/test.csv')"
      ]
    },
    {
      "cell_type": "code",
      "execution_count": null,
      "metadata": {
        "colab": {
          "base_uri": "https://localhost:8080/"
        },
        "id": "-ehmnlPvVBcn",
        "outputId": "c0308ac3-9db5-4ff2-fd8f-0e4e8eb4f103"
      },
      "outputs": [
        {
          "output_type": "execute_result",
          "data": {
            "text/plain": [
              "(82332, 45)"
            ]
          },
          "metadata": {},
          "execution_count": 8
        }
      ],
      "source": [
        "train.shape"
      ]
    },
    {
      "cell_type": "code",
      "execution_count": null,
      "metadata": {
        "colab": {
          "base_uri": "https://localhost:8080/"
        },
        "id": "8F2GTH3FVx5Y",
        "outputId": "6df26ab8-d8d8-4943-ab7e-d9a37e6df4f0"
      },
      "outputs": [
        {
          "output_type": "execute_result",
          "data": {
            "text/plain": [
              "-           47153\n",
              "dns         21367\n",
              "http         8287\n",
              "smtp         1851\n",
              "ftp          1552\n",
              "ftp-data     1396\n",
              "pop3          423\n",
              "ssh           204\n",
              "ssl            30\n",
              "snmp           29\n",
              "dhcp           26\n",
              "radius          9\n",
              "irc             5\n",
              "Name: service, dtype: int64"
            ]
          },
          "metadata": {},
          "execution_count": 9
        }
      ],
      "source": [
        "train['service'].value_counts()"
      ]
    },
    {
      "cell_type": "code",
      "execution_count": null,
      "metadata": {
        "colab": {
          "base_uri": "https://localhost:8080/",
          "height": 406
        },
        "id": "P8badJphXua9",
        "outputId": "099536a9-2cb9-40b2-f5f1-2612c971990d"
      },
      "outputs": [
        {
          "output_type": "display_data",
          "data": {
            "text/plain": [
              "<Figure size 640x480 with 1 Axes>"
            ],
            "image/png": "[encoded data removed]"
          },
          "metadata": {}
        }
      ],
      "source": [
        "#define data\n",
        "data = train['label'].value_counts()\n",
        "labels = ['normal', 'malicious']\n",
        "\n",
        "#define Seaborn color palette to use\n",
        "colors = sns.color_palette('bright')[0:2]\n",
        "\n",
        "#create pie chart\n",
        "plt.pie(data, labels = labels, colors = colors, autopct='%.0f%%')\n",
        "plt.show()"
      ]
    },
    {
      "cell_type": "code",
      "execution_count": null,
      "metadata": {
        "id": "ECtpw_VDY0rp"
      },
      "outputs": [],
      "source": []
    },
    {
      "cell_type": "code",
      "execution_count": null,
      "metadata": {
        "colab": {
          "base_uri": "https://localhost:8080/"
        },
        "id": "uetVxVMRZZyx",
        "outputId": "a836c43d-e55e-4881-fbed-e4b9900d8417"
      },
      "outputs": [
        {
          "output_type": "execute_result",
          "data": {
            "text/plain": [
              "-           47153\n",
              "dns         21367\n",
              "http         8287\n",
              "smtp         1851\n",
              "ftp          1552\n",
              "ftp-data     1396\n",
              "pop3          423\n",
              "ssh           204\n",
              "ssl            30\n",
              "snmp           29\n",
              "dhcp           26\n",
              "radius          9\n",
              "irc             5\n",
              "Name: service, dtype: int64"
            ]
          },
          "metadata": {},
          "execution_count": 11
        }
      ],
      "source": [
        "train['service'].value_counts()"
      ]
    },
    {
      "cell_type": "code",
      "execution_count": null,
      "metadata": {
        "id": "EZcNrKn0Zu7B"
      },
      "outputs": [],
      "source": [
        "train['service'] = train['service'].apply(lambda x:'None' if x== '-' else x)\n",
        "train['is_ftp_login'] = np.where(train['is_ftp_login']>1, 1, train['is_ftp_login'])"
      ]
    },
    {
      "cell_type": "code",
      "execution_count": null,
      "metadata": {
        "id": "Fk2Flt7tbXgu"
      },
      "outputs": [],
      "source": [
        "def multi_corr(col1, col2=\"label\", df=train):\n",
        "    corr = df[[col1, col2]].corr().iloc[0,1]\n",
        "    log_corr = df[col1].apply(np.log1p).corr(df[col2])\n",
        "    print(\"Correlation : {}\\nlog_Correlation: {}\".format(corr, log_corr))"
      ]
    },
    {
      "cell_type": "code",
      "execution_count": null,
      "metadata": {
        "id": "TwNRtTPEcW0f"
      },
      "outputs": [],
      "source": [
        "def corr(col1, col2=\"label\", df=train):\n",
        "    return df[[col1, col2]].corr().iloc[0,1]"
      ]
    },
    {
      "cell_type": "code",
      "execution_count": null,
      "metadata": {
        "colab": {
          "base_uri": "https://localhost:8080/",
          "height": 844
        },
        "id": "vaZkCr4WcYnP",
        "outputId": "27bf1d17-710a-4e1c-85f5-44290a17944f"
      },
      "outputs": [
        {
          "output_type": "stream",
          "name": "stderr",
          "text": [
            "<ipython-input-15-8bba86b76ec4>:2: FutureWarning: The default value of numeric_only in DataFrame.corr is deprecated. In a future version, it will default to False. Select only valid columns or specify the value of numeric_only to silence this warning.\n",
            "  corr_mat = train.corr(method=method)\n"
          ]
        },
        {
          "output_type": "display_data",
          "data": {
            "text/plain": [
              "<Figure size 1000x1000 with 2 Axes>"
            ],
            "image/png": "[encoded data removed]"
          },
          "metadata": {}
        }
      ],
      "source": [
        "method = \"pearson\"\n",
        "corr_mat = train.corr(method=method)\n",
        "\n",
        "plt.figure(figsize=(10,10)) \n",
        "sns.heatmap(corr_mat, square=True)\n",
        "plt.show()"
      ]
    },
    {
      "cell_type": "code",
      "execution_count": null,
      "metadata": {
        "colab": {
          "base_uri": "https://localhost:8080/",
          "height": 235
        },
        "id": "S7qUv00-ca5H",
        "outputId": "db290fc5-fb67-480c-be9f-f98488960ab7"
      },
      "outputs": [
        {
          "output_type": "error",
          "ename": "NameError",
          "evalue": "ignored",
          "traceback": [
            "\u001b[0;31m---------------------------------------------------------------------------\u001b[0m",
            "\u001b[0;31mNameError\u001b[0m                                 Traceback (most recent call last)",
            "\u001b[0;32m<ipython-input-1-f00567f6c319>\u001b[0m in \u001b[0;36m<cell line: 2>\u001b[0;34m()\u001b[0m\n\u001b[1;32m      1\u001b[0m \u001b[0mlimit\u001b[0m \u001b[0;34m=\u001b[0m \u001b[0;36m0.9\u001b[0m\u001b[0;34m\u001b[0m\u001b[0;34m\u001b[0m\u001b[0m\n\u001b[0;32m----> 2\u001b[0;31m \u001b[0mcolumns\u001b[0m \u001b[0;34m=\u001b[0m \u001b[0mcorr_mat\u001b[0m\u001b[0;34m.\u001b[0m\u001b[0mcolumns\u001b[0m\u001b[0;34m\u001b[0m\u001b[0;34m\u001b[0m\u001b[0m\n\u001b[0m\u001b[1;32m      3\u001b[0m \u001b[0;32mfor\u001b[0m \u001b[0mi\u001b[0m \u001b[0;32min\u001b[0m \u001b[0mrange\u001b[0m\u001b[0;34m(\u001b[0m\u001b[0mcorr_mat\u001b[0m\u001b[0;34m.\u001b[0m\u001b[0mshape\u001b[0m\u001b[0;34m[\u001b[0m\u001b[0;36m0\u001b[0m\u001b[0;34m]\u001b[0m\u001b[0;34m)\u001b[0m\u001b[0;34m:\u001b[0m\u001b[0;34m\u001b[0m\u001b[0;34m\u001b[0m\u001b[0m\n\u001b[1;32m      4\u001b[0m     \u001b[0;32mfor\u001b[0m \u001b[0mj\u001b[0m \u001b[0;32min\u001b[0m \u001b[0mrange\u001b[0m\u001b[0;34m(\u001b[0m\u001b[0mi\u001b[0m\u001b[0;34m+\u001b[0m\u001b[0;36m1\u001b[0m\u001b[0;34m,\u001b[0m \u001b[0mcorr_mat\u001b[0m\u001b[0;34m.\u001b[0m\u001b[0mshape\u001b[0m\u001b[0;34m[\u001b[0m\u001b[0;36m0\u001b[0m\u001b[0;34m]\u001b[0m\u001b[0;34m)\u001b[0m\u001b[0;34m:\u001b[0m\u001b[0;34m\u001b[0m\u001b[0;34m\u001b[0m\u001b[0m\n\u001b[1;32m      5\u001b[0m         \u001b[0;32mif\u001b[0m \u001b[0mcorr_mat\u001b[0m\u001b[0;34m.\u001b[0m\u001b[0miloc\u001b[0m\u001b[0;34m[\u001b[0m\u001b[0mi\u001b[0m\u001b[0;34m,\u001b[0m \u001b[0mj\u001b[0m\u001b[0;34m]\u001b[0m \u001b[0;34m>=\u001b[0m \u001b[0;36m0.9\u001b[0m\u001b[0;34m:\u001b[0m\u001b[0;34m\u001b[0m\u001b[0;34m\u001b[0m\u001b[0m\n",
            "\u001b[0;31mNameError\u001b[0m: name 'corr_mat' is not defined"
          ]
        }
      ],
      "source": [
        "limit = 0.9\n",
        "columns = corr_mat.columns\n",
        "for i in range(corr_mat.shape[0]):\n",
        "    for j in range(i+1, corr_mat.shape[0]):\n",
        "        if corr_mat.iloc[i, j] >= 0.9:\n",
        "            print(f\"{columns[i]:20s} {columns[j]:20s} {corr_mat.iloc[i, j]}\")"
      ]
    },
    {
      "cell_type": "code",
      "execution_count": null,
      "metadata": {
        "id": "IncBvyWkdK4c"
      },
      "outputs": [],
      "source": [
        "normal = train[train['label']==0]\n",
        "malicious = train[train['label']==1]"
      ]
    },
    {
      "cell_type": "code",
      "execution_count": null,
      "metadata": {
        "id": "zdXGvyQGdBxA"
      },
      "outputs": [],
      "source": [
        "def col_countplot(col, train_data=train):\n",
        "    fig, ax = plt.subplots(figsize=(8,4))\n",
        "    sns.set_style('whitegrid')\n",
        "    ax = sns.countplot(x=col, hue='label', data=train_data)\n",
        "    ax.legend(loc=\"upper right\", labels=('normal', 'attack'))\n",
        "    ax.set_title(\"train data\")\n",
        "    plt.xticks(rotation=45)\n",
        "    plt.show()\n",
        "# Plotting pdf of numerical columns\n",
        "def dual_plot(col, data1=normal, data2=malicious, label1='normal', label2='anomaly', method=None):\n",
        "    \"\"\"\n",
        "    This function plots pdf of the given feature on attack and non-attck data\n",
        "    \"\"\"\n",
        "    if method != None:\n",
        "        sns.set_style('whitegrid')\n",
        "        sns.distplot(data1[col].apply(method), label=label1, hist=False, rug=True)\n",
        "        sns.distplot(data2[col].apply(method), label=label2, hist=False, rug=True)\n",
        "    else:\n",
        "        sns.set_style('whitegrid')\n",
        "        sns.distplot(data1[col], label=label1, hist=False, rug=True)\n",
        "        sns.distplot(data2[col], label=label2, hist=False, rug=True)\n",
        "    plt.legend()\n",
        "def reduce_column(s, to_keep):\n",
        "    s = s.lower().strip()\n",
        "    if s not in to_keep:\n",
        "        return \"others\"\n",
        "    else:\n",
        "        return s"
      ]
    },
    {
      "cell_type": "code",
      "execution_count": null,
      "metadata": {
        "colab": {
          "base_uri": "https://localhost:8080/",
          "height": 485
        },
        "id": "y5cjErKydFoh",
        "outputId": "a73372cc-e507-4ede-8e67-fb5a86491a35"
      },
      "outputs": [
        {
          "output_type": "display_data",
          "data": {
            "text/plain": [
              "<Figure size 800x400 with 1 Axes>"
            ],
            "image/png": "[encoded data removed]"
          },
          "metadata": {}
        }
      ],
      "source": [
        "col_countplot('attack_cat')"
      ]
    },
    {
      "cell_type": "code",
      "execution_count": null,
      "metadata": {
        "colab": {
          "base_uri": "https://localhost:8080/",
          "height": 513
        },
        "id": "T86StEwVdOa5",
        "outputId": "3c71ba93-f73f-4a57-9806-43d75c019313"
      },
      "outputs": [
        {
          "output_type": "display_data",
          "data": {
            "text/plain": [
              "<Figure size 500x500 with 6 Axes>"
            ],
            "image/png": "[encoded data removed]"
          },
          "metadata": {}
        }
      ],
      "source": [
        "sns.set_style(\"whitegrid\")\n",
        "sns.pairplot(data=train, vars=['sbytes', 'sloss'])\n",
        "plt.show()"
      ]
    },
    {
      "cell_type": "code",
      "execution_count": null,
      "metadata": {
        "colab": {
          "base_uri": "https://localhost:8080/",
          "height": 445
        },
        "id": "xDLBgZ3AdTZh",
        "outputId": "be31cab9-3d3e-4720-cc2e-5a092c19d01c"
      },
      "outputs": [
        {
          "output_type": "display_data",
          "data": {
            "text/plain": [
              "<Figure size 800x400 with 1 Axes>"
            ],
            "image/png": "[encoded data removed]"
          },
          "metadata": {}
        }
      ],
      "source": [
        "col_countplot('service')"
      ]
    },
    {
      "cell_type": "code",
      "source": [],
      "metadata": {
        "id": "5I8KwznD94wk"
      },
      "execution_count": null,
      "outputs": []
    },
    {
      "cell_type": "code",
      "execution_count": null,
      "metadata": {
        "id": "8QMMDq2DgH53"
      },
      "outputs": [],
      "source": [
        "train.drop('id',axis=1,inplace=True)\n",
        "train.drop('attack_cat',axis=1,inplace=True)"
      ]
    },
    {
      "cell_type": "code",
      "execution_count": null,
      "metadata": {
        "colab": {
          "base_uri": "https://localhost:8080/"
        },
        "id": "Sy5Rm39Hgg0_",
        "outputId": "c92da8ad-d03a-42ac-e5f9-b39c8d8887b5"
      },
      "outputs": [
        {
          "output_type": "stream",
          "name": "stderr",
          "text": [
            "<ipython-input-23-8c69f877af2f>:1: FutureWarning: The default value of numeric_only in DataFrame.corr is deprecated. In a future version, it will default to False. Select only valid columns or specify the value of numeric_only to silence this warning.\n",
            "  corr_matrix = train.corr().abs()\n",
            "<ipython-input-23-8c69f877af2f>:3: DeprecationWarning: `np.bool` is a deprecated alias for the builtin `bool`. To silence this warning, use `bool` by itself. Doing this will not modify any behavior and is safe. If you specifically wanted the numpy scalar type, use `np.bool_` here.\n",
            "Deprecated in NumPy 1.20; for more details and guidance: https://numpy.org/devdocs/release/1.20.0-notes.html#deprecations\n",
            "  upper = corr_matrix.where(np.triu(np.ones(corr_matrix.shape), k=1).astype(np.bool))\n"
          ]
        }
      ],
      "source": [
        "\n",
        "corr_matrix = train.corr().abs()\n",
        "# Select upper triangle of correlation matrix\n",
        "upper = corr_matrix.where(np.triu(np.ones(corr_matrix.shape), k=1).astype(np.bool))\n",
        "# Find index of feature columns with correlation greater than 0.9\n",
        "to_drop = [column for column in upper.columns if any(upper[column] > 0.9)]"
      ]
    },
    {
      "cell_type": "code",
      "execution_count": null,
      "metadata": {
        "colab": {
          "base_uri": "https://localhost:8080/"
        },
        "id": "sWoCF_9qgk7O",
        "outputId": "adb65a7a-801f-42ba-ed06-8c0b77992a37"
      },
      "outputs": [
        {
          "output_type": "stream",
          "name": "stdout",
          "text": [
            "['sbytes', 'dbytes', 'sloss', 'dloss', 'dwin', 'synack', 'ct_src_dport_ltm', 'ct_dst_sport_ltm', 'ct_dst_src_ltm', 'ct_ftp_cmd', 'ct_src_ltm', 'ct_srv_dst', 'is_sm_ips_ports']\n"
          ]
        }
      ],
      "source": [
        "print(to_drop)"
      ]
    },
    {
      "cell_type": "code",
      "execution_count": null,
      "metadata": {
        "colab": {
          "base_uri": "https://localhost:8080/"
        },
        "id": "Aml_BFRugpj2",
        "outputId": "be25a3f6-1dda-4152-d987-8c484dc218ef"
      },
      "outputs": [
        {
          "output_type": "execute_result",
          "data": {
            "text/plain": [
              "(82332, 43)"
            ]
          },
          "metadata": {},
          "execution_count": 25
        }
      ],
      "source": [
        "train.shape"
      ]
    },
    {
      "cell_type": "code",
      "execution_count": null,
      "metadata": {
        "id": "V1kFxok4gtHX"
      },
      "outputs": [],
      "source": [
        "todrop = ['sbytes', 'dbytes', 'sloss', 'dloss', 'dwin', 'synack', 'ackdat', 'ct_src_dport_ltm', 'ct_dst_sport_ltm', 'ct_dst_src_ltm', 'ct_ftp_cmd', 'ct_srv_dst', 'is_sm_ips_ports']"
      ]
    },
    {
      "cell_type": "code",
      "execution_count": null,
      "metadata": {
        "id": "c2GJf137gzkP"
      },
      "outputs": [],
      "source": [
        "train.drop(columns=todrop, inplace=True)"
      ]
    },
    {
      "cell_type": "code",
      "execution_count": null,
      "metadata": {
        "colab": {
          "base_uri": "https://localhost:8080/"
        },
        "id": "uZfYzuklg2En",
        "outputId": "9521a831-9beb-45e4-d87d-0f8d55f5222d"
      },
      "outputs": [
        {
          "output_type": "execute_result",
          "data": {
            "text/plain": [
              "(82332, 30)"
            ]
          },
          "metadata": {},
          "execution_count": 28
        }
      ],
      "source": [
        "train.shape"
      ]
    },
    {
      "cell_type": "code",
      "execution_count": null,
      "metadata": {
        "colab": {
          "base_uri": "https://localhost:8080/"
        },
        "id": "59p2jqFIg7-4",
        "outputId": "eda9e320-2e56-4286-d2d0-7248098018aa"
      },
      "outputs": [
        {
          "output_type": "stream",
          "name": "stdout",
          "text": [
            "<class 'pandas.core.frame.DataFrame'>\n",
            "RangeIndex: 82332 entries, 0 to 82331\n",
            "Data columns (total 30 columns):\n",
            " #   Column             Non-Null Count  Dtype  \n",
            "---  ------             --------------  -----  \n",
            " 0   dur                82332 non-null  float64\n",
            " 1   proto              82332 non-null  object \n",
            " 2   service            82332 non-null  object \n",
            " 3   state              82332 non-null  object \n",
            " 4   spkts              82332 non-null  int64  \n",
            " 5   dpkts              82332 non-null  int64  \n",
            " 6   rate               82332 non-null  float64\n",
            " 7   sttl               82332 non-null  int64  \n",
            " 8   dttl               82332 non-null  int64  \n",
            " 9   sload              82332 non-null  float64\n",
            " 10  dload              82332 non-null  float64\n",
            " 11  sinpkt             82332 non-null  float64\n",
            " 12  dinpkt             82332 non-null  float64\n",
            " 13  sjit               82332 non-null  float64\n",
            " 14  djit               82332 non-null  float64\n",
            " 15  swin               82332 non-null  int64  \n",
            " 16  stcpb              82332 non-null  int64  \n",
            " 17  dtcpb              82332 non-null  int64  \n",
            " 18  tcprtt             82332 non-null  float64\n",
            " 19  smean              82332 non-null  int64  \n",
            " 20  dmean              82332 non-null  int64  \n",
            " 21  trans_depth        82332 non-null  int64  \n",
            " 22  response_body_len  82332 non-null  int64  \n",
            " 23  ct_srv_src         82332 non-null  int64  \n",
            " 24  ct_state_ttl       82332 non-null  int64  \n",
            " 25  ct_dst_ltm         82332 non-null  int64  \n",
            " 26  is_ftp_login       82332 non-null  int64  \n",
            " 27  ct_flw_http_mthd   82332 non-null  int64  \n",
            " 28  ct_src_ltm         82332 non-null  int64  \n",
            " 29  label              82332 non-null  int64  \n",
            "dtypes: float64(9), int64(18), object(3)\n",
            "memory usage: 18.8+ MB\n"
          ]
        }
      ],
      "source": [
        "train.info()"
      ]
    },
    {
      "cell_type": "code",
      "execution_count": null,
      "metadata": {
        "id": "rZkj-BzohNDQ"
      },
      "outputs": [],
      "source": [
        "x_train, y_train = train.drop(columns=['label']), train['label']"
      ]
    },
    {
      "cell_type": "code",
      "execution_count": null,
      "metadata": {
        "colab": {
          "base_uri": "https://localhost:8080/"
        },
        "id": "nXzaZUFLhTLQ",
        "outputId": "069ae1a0-e467-4b54-de1d-e33d0d0c9ee3"
      },
      "outputs": [
        {
          "output_type": "execute_result",
          "data": {
            "text/plain": [
              "int64      18\n",
              "float64     9\n",
              "object      3\n",
              "dtype: int64"
            ]
          },
          "metadata": {},
          "execution_count": 31
        }
      ],
      "source": [
        "train.dtypes.value_counts()"
      ]
    },
    {
      "cell_type": "code",
      "execution_count": null,
      "metadata": {
        "colab": {
          "base_uri": "https://localhost:8080/"
        },
        "id": "T6hKrcBfhmgx",
        "outputId": "1996b513-bf0d-403a-8844-25164b9f4583"
      },
      "outputs": [
        {
          "output_type": "execute_result",
          "data": {
            "text/plain": [
              "Index(['proto', 'service', 'state'], dtype='object')"
            ]
          },
          "metadata": {},
          "execution_count": 32
        }
      ],
      "source": [
        "train.select_dtypes(exclude=np.number).columns"
      ]
    },
    {
      "cell_type": "code",
      "execution_count": null,
      "metadata": {
        "id": "ASePahbahoPR"
      },
      "outputs": [],
      "source": [
        "cat_col = ['proto', 'service', 'state']\n",
        "num_col = list(set(x_train.columns) - set(cat_col))"
      ]
    },
    {
      "cell_type": "code",
      "execution_count": null,
      "metadata": {
        "id": "6k_KvlPlhq4B"
      },
      "outputs": [],
      "source": [
        "scaler = StandardScaler()\n",
        "scaler = scaler.fit(x_train[num_col])"
      ]
    },
    {
      "cell_type": "code",
      "execution_count": null,
      "metadata": {
        "id": "ULy6o89lhsQ5"
      },
      "outputs": [],
      "source": [
        "x_train[num_col] = scaler.transform(x_train[num_col])"
      ]
    },
    {
      "cell_type": "code",
      "execution_count": null,
      "metadata": {
        "colab": {
          "base_uri": "https://localhost:8080/",
          "height": 300
        },
        "id": "O7MMIHe6htep",
        "outputId": "f07f5ed4-87b5-4756-98f5-247bce4c1e9a"
      },
      "outputs": [
        {
          "output_type": "execute_result",
          "data": {
            "text/plain": [
              "        dur proto service state     spkts     dpkts      rate     sttl  \\\n",
              "0 -0.213727   udp    None   INT -0.124455 -0.151816  0.057181  0.71944   \n",
              "1 -0.213728   udp    None   INT -0.124455 -0.151816  0.286565  0.71944   \n",
              "2 -0.213729   udp    None   INT -0.124455 -0.151816  0.791209  0.71944   \n",
              "3 -0.213729   udp    None   INT -0.124455 -0.151816  0.566923  0.71944   \n",
              "4 -0.213728   udp    None   INT -0.124455 -0.151816  0.118350  0.71944   \n",
              "\n",
              "       dttl     sload  ...     smean     dmean  trans_depth  \\\n",
              "0 -0.820395  0.643913  ...  0.520319 -0.475371    -0.173648   \n",
              "1 -0.820395  4.539351  ...  3.556716 -0.475371    -0.173648   \n",
              "2 -0.820395  4.391459  ...  1.892214 -0.475371    -0.173648   \n",
              "3 -0.820395  2.977031  ...  1.489280 -0.475371    -0.173648   \n",
              "4 -0.820395  4.369219  ...  4.429740 -0.475371    -0.173648   \n",
              "\n",
              "   response_body_len  ct_srv_src  ct_state_ttl  ct_dst_ltm  is_ftp_login  \\\n",
              "0           -0.04191   -0.680474      0.591021   -0.563660     -0.091123   \n",
              "1           -0.04191   -0.680474      0.591021   -0.563660     -0.091123   \n",
              "2           -0.04191   -0.590304      0.591021   -0.563660     -0.091123   \n",
              "3           -0.04191   -0.590304      0.591021   -0.444868     -0.091123   \n",
              "4           -0.04191   -0.590304      0.591021   -0.444868     -0.091123   \n",
              "\n",
              "   ct_flw_http_mthd  ct_src_ltm  \n",
              "0         -0.203143   -0.640033  \n",
              "1         -0.203143   -0.640033  \n",
              "2         -0.203143   -0.640033  \n",
              "3         -0.203143   -0.522990  \n",
              "4         -0.203143   -0.522990  \n",
              "\n",
              "[5 rows x 29 columns]"
            ],
            "text/html": [
              "\n",
              "  <div id=\"df-1b5966fc-6cde-4e49-b759-58565b91c2a8\">\n",
              "    <div class=\"colab-df-container\">\n",
              "      <div>\n",
              "<style scoped>\n",
              "    .dataframe tbody tr th:only-of-type {\n",
              "        vertical-align: middle;\n",
              "    }\n",
              "\n",
              "    .dataframe tbody tr th {\n",
              "        vertical-align: top;\n",
              "    }\n",
              "\n",
              "    .dataframe thead th {\n",
              "        text-align: right;\n",
              "    }\n",
              "</style>\n",
              "<table border=\"1\" class=\"dataframe\">\n",
              "  <thead>\n",
              "    <tr style=\"text-align: right;\">\n",
              "      <th></th>\n",
              "      <th>dur</th>\n",
              "      <th>proto</th>\n",
              "      <th>service</th>\n",
              "      <th>state</th>\n",
              "      <th>spkts</th>\n",
              "      <th>dpkts</th>\n",
              "      <th>rate</th>\n",
              "      <th>sttl</th>\n",
              "      <th>dttl</th>\n",
              "      <th>sload</th>\n",
              "      <th>...</th>\n",
              "      <th>smean</th>\n",
              "      <th>dmean</th>\n",
              "      <th>trans_depth</th>\n",
              "      <th>response_body_len</th>\n",
              "      <th>ct_srv_src</th>\n",
              "      <th>ct_state_ttl</th>\n",
              "      <th>ct_dst_ltm</th>\n",
              "      <th>is_ftp_login</th>\n",
              "      <th>ct_flw_http_mthd</th>\n",
              "      <th>ct_src_ltm</th>\n",
              "    </tr>\n",
              "  </thead>\n",
              "  <tbody>\n",
              "    <tr>\n",
              "      <th>0</th>\n",
              "      <td>-0.213727</td>\n",
              "      <td>udp</td>\n",
              "      <td>None</td>\n",
              "      <td>INT</td>\n",
              "      <td>-0.124455</td>\n",
              "      <td>-0.151816</td>\n",
              "      <td>0.057181</td>\n",
              "      <td>0.71944</td>\n",
              "      <td>-0.820395</td>\n",
              "      <td>0.643913</td>\n",
              "      <td>...</td>\n",
              "      <td>0.520319</td>\n",
              "      <td>-0.475371</td>\n",
              "      <td>-0.173648</td>\n",
              "      <td>-0.04191</td>\n",
              "      <td>-0.680474</td>\n",
              "      <td>0.591021</td>\n",
              "      <td>-0.563660</td>\n",
              "      <td>-0.091123</td>\n",
              "      <td>-0.203143</td>\n",
              "      <td>-0.640033</td>\n",
              "    </tr>\n",
              "    <tr>\n",
              "      <th>1</th>\n",
              "      <td>-0.213728</td>\n",
              "      <td>udp</td>\n",
              "      <td>None</td>\n",
              "      <td>INT</td>\n",
              "      <td>-0.124455</td>\n",
              "      <td>-0.151816</td>\n",
              "      <td>0.286565</td>\n",
              "      <td>0.71944</td>\n",
              "      <td>-0.820395</td>\n",
              "      <td>4.539351</td>\n",
              "      <td>...</td>\n",
              "      <td>3.556716</td>\n",
              "      <td>-0.475371</td>\n",
              "      <td>-0.173648</td>\n",
              "      <td>-0.04191</td>\n",
              "      <td>-0.680474</td>\n",
              "      <td>0.591021</td>\n",
              "      <td>-0.563660</td>\n",
              "      <td>-0.091123</td>\n",
              "      <td>-0.203143</td>\n",
              "      <td>-0.640033</td>\n",
              "    </tr>\n",
              "    <tr>\n",
              "      <th>2</th>\n",
              "      <td>-0.213729</td>\n",
              "      <td>udp</td>\n",
              "      <td>None</td>\n",
              "      <td>INT</td>\n",
              "      <td>-0.124455</td>\n",
              "      <td>-0.151816</td>\n",
              "      <td>0.791209</td>\n",
              "      <td>0.71944</td>\n",
              "      <td>-0.820395</td>\n",
              "      <td>4.391459</td>\n",
              "      <td>...</td>\n",
              "      <td>1.892214</td>\n",
              "      <td>-0.475371</td>\n",
              "      <td>-0.173648</td>\n",
              "      <td>-0.04191</td>\n",
              "      <td>-0.590304</td>\n",
              "      <td>0.591021</td>\n",
              "      <td>-0.563660</td>\n",
              "      <td>-0.091123</td>\n",
              "      <td>-0.203143</td>\n",
              "      <td>-0.640033</td>\n",
              "    </tr>\n",
              "    <tr>\n",
              "      <th>3</th>\n",
              "      <td>-0.213729</td>\n",
              "      <td>udp</td>\n",
              "      <td>None</td>\n",
              "      <td>INT</td>\n",
              "      <td>-0.124455</td>\n",
              "      <td>-0.151816</td>\n",
              "      <td>0.566923</td>\n",
              "      <td>0.71944</td>\n",
              "      <td>-0.820395</td>\n",
              "      <td>2.977031</td>\n",
              "      <td>...</td>\n",
              "      <td>1.489280</td>\n",
              "      <td>-0.475371</td>\n",
              "      <td>-0.173648</td>\n",
              "      <td>-0.04191</td>\n",
              "      <td>-0.590304</td>\n",
              "      <td>0.591021</td>\n",
              "      <td>-0.444868</td>\n",
              "      <td>-0.091123</td>\n",
              "      <td>-0.203143</td>\n",
              "      <td>-0.522990</td>\n",
              "    </tr>\n",
              "    <tr>\n",
              "      <th>4</th>\n",
              "      <td>-0.213728</td>\n",
              "      <td>udp</td>\n",
              "      <td>None</td>\n",
              "      <td>INT</td>\n",
              "      <td>-0.124455</td>\n",
              "      <td>-0.151816</td>\n",
              "      <td>0.118350</td>\n",
              "      <td>0.71944</td>\n",
              "      <td>-0.820395</td>\n",
              "      <td>4.369219</td>\n",
              "      <td>...</td>\n",
              "      <td>4.429740</td>\n",
              "      <td>-0.475371</td>\n",
              "      <td>-0.173648</td>\n",
              "      <td>-0.04191</td>\n",
              "      <td>-0.590304</td>\n",
              "      <td>0.591021</td>\n",
              "      <td>-0.444868</td>\n",
              "      <td>-0.091123</td>\n",
              "      <td>-0.203143</td>\n",
              "      <td>-0.522990</td>\n",
              "    </tr>\n",
              "  </tbody>\n",
              "</table>\n",
              "<p>5 rows × 29 columns</p>\n",
              "</div>\n",
              "      <button class=\"colab-df-convert\" onclick=\"convertToInteractive('df-1b5966fc-6cde-4e49-b759-58565b91c2a8')\"\n",
              "              title=\"Convert this dataframe to an interactive table.\"\n",
              "              style=\"display:none;\">\n",
              "        \n",
              "  <svg xmlns=\"http://www.w3.org/2000/svg\" height=\"24px\"viewBox=\"0 0 24 24\"\n",
              "       width=\"24px\">\n",
              "    <path d=\"M0 0h24v24H0V0z\" fill=\"none\"/>\n",
              "    <path d=\"M18.56 5.44l.94 2.06.94-2.06 2.06-.94-2.06-.94-.94-2.06-.94 2.06-2.06.94zm-11 1L8.5 8.5l.94-2.06 2.06-.94-2.06-.94L8.5 2.5l-.94 2.06-2.06.94zm10 10l.94 2.06.94-2.06 2.06-.94-2.06-.94-.94-2.06-.94 2.06-2.06.94z\"/><path d=\"M17.41 7.96l-1.37-1.37c-.4-.4-.92-.59-1.43-.59-.52 0-1.04.2-1.43.59L10.3 9.45l-7.72 7.72c-.78.78-.78 2.05 0 2.83L4 21.41c.39.39.9.59 1.41.59.51 0 1.02-.2 1.41-.59l7.78-7.78 2.81-2.81c.8-.78.8-2.07 0-2.86zM5.41 20L4 18.59l7.72-7.72 1.47 1.35L5.41 20z\"/>\n",
              "  </svg>\n",
              "      </button>\n",
              "      \n",
              "  <style>\n",
              "    .colab-df-container {\n",
              "      display:flex;\n",
              "      flex-wrap:wrap;\n",
              "      gap: 12px;\n",
              "    }\n",
              "\n",
              "    .colab-df-convert {\n",
              "      background-color: #E8F0FE;\n",
              "      border: none;\n",
              "      border-radius: 50%;\n",
              "      cursor: pointer;\n",
              "      display: none;\n",
              "      fill: #1967D2;\n",
              "      height: 32px;\n",
              "      padding: 0 0 0 0;\n",
              "      width: 32px;\n",
              "    }\n",
              "\n",
              "    .colab-df-convert:hover {\n",
              "      background-color: #E2EBFA;\n",
              "      box-shadow: 0px 1px 2px rgba(60, 64, 67, 0.3), 0px 1px 3px 1px rgba(60, 64, 67, 0.15);\n",
              "      fill: #174EA6;\n",
              "    }\n",
              "\n",
              "    [theme=dark] .colab-df-convert {\n",
              "      background-color: #3B4455;\n",
              "      fill: #D2E3FC;\n",
              "    }\n",
              "\n",
              "    [theme=dark] .colab-df-convert:hover {\n",
              "      background-color: #434B5C;\n",
              "      box-shadow: 0px 1px 3px 1px rgba(0, 0, 0, 0.15);\n",
              "      filter: drop-shadow(0px 1px 2px rgba(0, 0, 0, 0.3));\n",
              "      fill: #FFFFFF;\n",
              "    }\n",
              "  </style>\n",
              "\n",
              "      <script>\n",
              "        const buttonEl =\n",
              "          document.querySelector('#df-1b5966fc-6cde-4e49-b759-58565b91c2a8 button.colab-df-convert');\n",
              "        buttonEl.style.display =\n",
              "          google.colab.kernel.accessAllowed ? 'block' : 'none';\n",
              "\n",
              "        async function convertToInteractive(key) {\n",
              "          const element = document.querySelector('#df-1b5966fc-6cde-4e49-b759-58565b91c2a8');\n",
              "          const dataTable =\n",
              "            await google.colab.kernel.invokeFunction('convertToInteractive',\n",
              "                                                     [key], {});\n",
              "          if (!dataTable) return;\n",
              "\n",
              "          const docLinkHtml = 'Like what you see? Visit the ' +\n",
              "            '<a target=\"_blank\" href=https://colab.research.google.com/notebooks/data_table.ipynb>data table notebook</a>'\n",
              "            + ' to learn more about interactive tables.';\n",
              "          element.innerHTML = '';\n",
              "          dataTable['output_type'] = 'display_data';\n",
              "          await google.colab.output.renderOutput(dataTable, element);\n",
              "          const docLink = document.createElement('div');\n",
              "          docLink.innerHTML = docLinkHtml;\n",
              "          element.appendChild(docLink);\n",
              "        }\n",
              "      </script>\n",
              "    </div>\n",
              "  </div>\n",
              "  "
            ]
          },
          "metadata": {},
          "execution_count": 36
        }
      ],
      "source": [
        "x_train.head()"
      ]
    },
    {
      "cell_type": "code",
      "execution_count": null,
      "metadata": {
        "id": "_6Ec7-I-hvOZ"
      },
      "outputs": [],
      "source": [
        "service_ = OneHotEncoder()\n",
        "proto_ = OneHotEncoder()\n",
        "state_ = OneHotEncoder()\n",
        "ohe_service = service_.fit(x_train.service.values.reshape(-1,1))\n",
        "ohe_proto = proto_.fit(x_train.proto.values.reshape(-1,1))\n",
        "ohe_state = state_.fit(x_train.state.values.reshape(-1,1))"
      ]
    },
    {
      "cell_type": "code",
      "execution_count": null,
      "metadata": {
        "id": "aDLap2tQhxPZ"
      },
      "outputs": [],
      "source": [
        "for col, ohe in zip(['proto', 'service', 'state'], [ohe_proto, ohe_service, ohe_state]):\n",
        "    x = ohe.transform(x_train[col].values.reshape(-1,1))\n",
        "    tmp_df = pd.DataFrame(x.todense(), columns=[col+'_'+i for i in ohe.categories_[0]])\n",
        "    x_train = pd.concat([x_train.drop(col, axis=1), tmp_df], axis=1)"
      ]
    },
    {
      "cell_type": "code",
      "execution_count": null,
      "metadata": {
        "colab": {
          "base_uri": "https://localhost:8080/",
          "height": 300
        },
        "id": "yWuCtsRZhyxR",
        "outputId": "4f529e78-9290-4e4b-a40d-7d443cd24d7d"
      },
      "outputs": [
        {
          "output_type": "execute_result",
          "data": {
            "text/plain": [
              "        dur     spkts     dpkts      rate     sttl      dttl     sload  \\\n",
              "0 -0.213727 -0.124455 -0.151816  0.057181  0.71944 -0.820395  0.643913   \n",
              "1 -0.213728 -0.124455 -0.151816  0.286565  0.71944 -0.820395  4.539351   \n",
              "2 -0.213729 -0.124455 -0.151816  0.791209  0.71944 -0.820395  4.391459   \n",
              "3 -0.213729 -0.124455 -0.151816  0.566923  0.71944 -0.820395  2.977031   \n",
              "4 -0.213728 -0.124455 -0.151816  0.118350  0.71944 -0.820395  4.369219   \n",
              "\n",
              "      dload    sinpkt    dinpkt  ...  service_snmp  service_ssh  service_ssl  \\\n",
              "0 -0.263498 -0.122179 -0.094169  ...           0.0          0.0          0.0   \n",
              "1 -0.263498 -0.122180 -0.094169  ...           0.0          0.0          0.0   \n",
              "2 -0.263498 -0.122180 -0.094169  ...           0.0          0.0          0.0   \n",
              "3 -0.263498 -0.122180 -0.094169  ...           0.0          0.0          0.0   \n",
              "4 -0.263498 -0.122179 -0.094169  ...           0.0          0.0          0.0   \n",
              "\n",
              "   state_ACC  state_CLO  state_CON  state_FIN  state_INT  state_REQ  state_RST  \n",
              "0        0.0        0.0        0.0        0.0        1.0        0.0        0.0  \n",
              "1        0.0        0.0        0.0        0.0        1.0        0.0        0.0  \n",
              "2        0.0        0.0        0.0        0.0        1.0        0.0        0.0  \n",
              "3        0.0        0.0        0.0        0.0        1.0        0.0        0.0  \n",
              "4        0.0        0.0        0.0        0.0        1.0        0.0        0.0  \n",
              "\n",
              "[5 rows x 177 columns]"
            ],
            "text/html": [
              "\n",
              "  <div id=\"df-0ac1c3ab-7530-4294-ab88-02e588dd9579\">\n",
              "    <div class=\"colab-df-container\">\n",
              "      <div>\n",
              "<style scoped>\n",
              "    .dataframe tbody tr th:only-of-type {\n",
              "        vertical-align: middle;\n",
              "    }\n",
              "\n",
              "    .dataframe tbody tr th {\n",
              "        vertical-align: top;\n",
              "    }\n",
              "\n",
              "    .dataframe thead th {\n",
              "        text-align: right;\n",
              "    }\n",
              "</style>\n",
              "<table border=\"1\" class=\"dataframe\">\n",
              "  <thead>\n",
              "    <tr style=\"text-align: right;\">\n",
              "      <th></th>\n",
              "      <th>dur</th>\n",
              "      <th>spkts</th>\n",
              "      <th>dpkts</th>\n",
              "      <th>rate</th>\n",
              "      <th>sttl</th>\n",
              "      <th>dttl</th>\n",
              "      <th>sload</th>\n",
              "      <th>dload</th>\n",
              "      <th>sinpkt</th>\n",
              "      <th>dinpkt</th>\n",
              "      <th>...</th>\n",
              "      <th>service_snmp</th>\n",
              "      <th>service_ssh</th>\n",
              "      <th>service_ssl</th>\n",
              "      <th>state_ACC</th>\n",
              "      <th>state_CLO</th>\n",
              "      <th>state_CON</th>\n",
              "      <th>state_FIN</th>\n",
              "      <th>state_INT</th>\n",
              "      <th>state_REQ</th>\n",
              "      <th>state_RST</th>\n",
              "    </tr>\n",
              "  </thead>\n",
              "  <tbody>\n",
              "    <tr>\n",
              "      <th>0</th>\n",
              "      <td>-0.213727</td>\n",
              "      <td>-0.124455</td>\n",
              "      <td>-0.151816</td>\n",
              "      <td>0.057181</td>\n",
              "      <td>0.71944</td>\n",
              "      <td>-0.820395</td>\n",
              "      <td>0.643913</td>\n",
              "      <td>-0.263498</td>\n",
              "      <td>-0.122179</td>\n",
              "      <td>-0.094169</td>\n",
              "      <td>...</td>\n",
              "      <td>0.0</td>\n",
              "      <td>0.0</td>\n",
              "      <td>0.0</td>\n",
              "      <td>0.0</td>\n",
              "      <td>0.0</td>\n",
              "      <td>0.0</td>\n",
              "      <td>0.0</td>\n",
              "      <td>1.0</td>\n",
              "      <td>0.0</td>\n",
              "      <td>0.0</td>\n",
              "    </tr>\n",
              "    <tr>\n",
              "      <th>1</th>\n",
              "      <td>-0.213728</td>\n",
              "      <td>-0.124455</td>\n",
              "      <td>-0.151816</td>\n",
              "      <td>0.286565</td>\n",
              "      <td>0.71944</td>\n",
              "      <td>-0.820395</td>\n",
              "      <td>4.539351</td>\n",
              "      <td>-0.263498</td>\n",
              "      <td>-0.122180</td>\n",
              "      <td>-0.094169</td>\n",
              "      <td>...</td>\n",
              "      <td>0.0</td>\n",
              "      <td>0.0</td>\n",
              "      <td>0.0</td>\n",
              "      <td>0.0</td>\n",
              "      <td>0.0</td>\n",
              "      <td>0.0</td>\n",
              "      <td>0.0</td>\n",
              "      <td>1.0</td>\n",
              "      <td>0.0</td>\n",
              "      <td>0.0</td>\n",
              "    </tr>\n",
              "    <tr>\n",
              "      <th>2</th>\n",
              "      <td>-0.213729</td>\n",
              "      <td>-0.124455</td>\n",
              "      <td>-0.151816</td>\n",
              "      <td>0.791209</td>\n",
              "      <td>0.71944</td>\n",
              "      <td>-0.820395</td>\n",
              "      <td>4.391459</td>\n",
              "      <td>-0.263498</td>\n",
              "      <td>-0.122180</td>\n",
              "      <td>-0.094169</td>\n",
              "      <td>...</td>\n",
              "      <td>0.0</td>\n",
              "      <td>0.0</td>\n",
              "      <td>0.0</td>\n",
              "      <td>0.0</td>\n",
              "      <td>0.0</td>\n",
              "      <td>0.0</td>\n",
              "      <td>0.0</td>\n",
              "      <td>1.0</td>\n",
              "      <td>0.0</td>\n",
              "      <td>0.0</td>\n",
              "    </tr>\n",
              "    <tr>\n",
              "      <th>3</th>\n",
              "      <td>-0.213729</td>\n",
              "      <td>-0.124455</td>\n",
              "      <td>-0.151816</td>\n",
              "      <td>0.566923</td>\n",
              "      <td>0.71944</td>\n",
              "      <td>-0.820395</td>\n",
              "      <td>2.977031</td>\n",
              "      <td>-0.263498</td>\n",
              "      <td>-0.122180</td>\n",
              "      <td>-0.094169</td>\n",
              "      <td>...</td>\n",
              "      <td>0.0</td>\n",
              "      <td>0.0</td>\n",
              "      <td>0.0</td>\n",
              "      <td>0.0</td>\n",
              "      <td>0.0</td>\n",
              "      <td>0.0</td>\n",
              "      <td>0.0</td>\n",
              "      <td>1.0</td>\n",
              "      <td>0.0</td>\n",
              "      <td>0.0</td>\n",
              "    </tr>\n",
              "    <tr>\n",
              "      <th>4</th>\n",
              "      <td>-0.213728</td>\n",
              "      <td>-0.124455</td>\n",
              "      <td>-0.151816</td>\n",
              "      <td>0.118350</td>\n",
              "      <td>0.71944</td>\n",
              "      <td>-0.820395</td>\n",
              "      <td>4.369219</td>\n",
              "      <td>-0.263498</td>\n",
              "      <td>-0.122179</td>\n",
              "      <td>-0.094169</td>\n",
              "      <td>...</td>\n",
              "      <td>0.0</td>\n",
              "      <td>0.0</td>\n",
              "      <td>0.0</td>\n",
              "      <td>0.0</td>\n",
              "      <td>0.0</td>\n",
              "      <td>0.0</td>\n",
              "      <td>0.0</td>\n",
              "      <td>1.0</td>\n",
              "      <td>0.0</td>\n",
              "      <td>0.0</td>\n",
              "    </tr>\n",
              "  </tbody>\n",
              "</table>\n",
              "<p>5 rows × 177 columns</p>\n",
              "</div>\n",
              "      <button class=\"colab-df-convert\" onclick=\"convertToInteractive('df-0ac1c3ab-7530-4294-ab88-02e588dd9579')\"\n",
              "              title=\"Convert this dataframe to an interactive table.\"\n",
              "              style=\"display:none;\">\n",
              "        \n",
              "  <svg xmlns=\"http://www.w3.org/2000/svg\" height=\"24px\"viewBox=\"0 0 24 24\"\n",
              "       width=\"24px\">\n",
              "    <path d=\"M0 0h24v24H0V0z\" fill=\"none\"/>\n",
              "    <path d=\"M18.56 5.44l.94 2.06.94-2.06 2.06-.94-2.06-.94-.94-2.06-.94 2.06-2.06.94zm-11 1L8.5 8.5l.94-2.06 2.06-.94-2.06-.94L8.5 2.5l-.94 2.06-2.06.94zm10 10l.94 2.06.94-2.06 2.06-.94-2.06-.94-.94-2.06-.94 2.06-2.06.94z\"/><path d=\"M17.41 7.96l-1.37-1.37c-.4-.4-.92-.59-1.43-.59-.52 0-1.04.2-1.43.59L10.3 9.45l-7.72 7.72c-.78.78-.78 2.05 0 2.83L4 21.41c.39.39.9.59 1.41.59.51 0 1.02-.2 1.41-.59l7.78-7.78 2.81-2.81c.8-.78.8-2.07 0-2.86zM5.41 20L4 18.59l7.72-7.72 1.47 1.35L5.41 20z\"/>\n",
              "  </svg>\n",
              "      </button>\n",
              "      \n",
              "  <style>\n",
              "    .colab-df-container {\n",
              "      display:flex;\n",
              "      flex-wrap:wrap;\n",
              "      gap: 12px;\n",
              "    }\n",
              "\n",
              "    .colab-df-convert {\n",
              "      background-color: #E8F0FE;\n",
              "      border: none;\n",
              "      border-radius: 50%;\n",
              "      cursor: pointer;\n",
              "      display: none;\n",
              "      fill: #1967D2;\n",
              "      height: 32px;\n",
              "      padding: 0 0 0 0;\n",
              "      width: 32px;\n",
              "    }\n",
              "\n",
              "    .colab-df-convert:hover {\n",
              "      background-color: #E2EBFA;\n",
              "      box-shadow: 0px 1px 2px rgba(60, 64, 67, 0.3), 0px 1px 3px 1px rgba(60, 64, 67, 0.15);\n",
              "      fill: #174EA6;\n",
              "    }\n",
              "\n",
              "    [theme=dark] .colab-df-convert {\n",
              "      background-color: #3B4455;\n",
              "      fill: #D2E3FC;\n",
              "    }\n",
              "\n",
              "    [theme=dark] .colab-df-convert:hover {\n",
              "      background-color: #434B5C;\n",
              "      box-shadow: 0px 1px 3px 1px rgba(0, 0, 0, 0.15);\n",
              "      filter: drop-shadow(0px 1px 2px rgba(0, 0, 0, 0.3));\n",
              "      fill: #FFFFFF;\n",
              "    }\n",
              "  </style>\n",
              "\n",
              "      <script>\n",
              "        const buttonEl =\n",
              "          document.querySelector('#df-0ac1c3ab-7530-4294-ab88-02e588dd9579 button.colab-df-convert');\n",
              "        buttonEl.style.display =\n",
              "          google.colab.kernel.accessAllowed ? 'block' : 'none';\n",
              "\n",
              "        async function convertToInteractive(key) {\n",
              "          const element = document.querySelector('#df-0ac1c3ab-7530-4294-ab88-02e588dd9579');\n",
              "          const dataTable =\n",
              "            await google.colab.kernel.invokeFunction('convertToInteractive',\n",
              "                                                     [key], {});\n",
              "          if (!dataTable) return;\n",
              "\n",
              "          const docLinkHtml = 'Like what you see? Visit the ' +\n",
              "            '<a target=\"_blank\" href=https://colab.research.google.com/notebooks/data_table.ipynb>data table notebook</a>'\n",
              "            + ' to learn more about interactive tables.';\n",
              "          element.innerHTML = '';\n",
              "          dataTable['output_type'] = 'display_data';\n",
              "          await google.colab.output.renderOutput(dataTable, element);\n",
              "          const docLink = document.createElement('div');\n",
              "          docLink.innerHTML = docLinkHtml;\n",
              "          element.appendChild(docLink);\n",
              "        }\n",
              "      </script>\n",
              "    </div>\n",
              "  </div>\n",
              "  "
            ]
          },
          "metadata": {},
          "execution_count": 39
        }
      ],
      "source": [
        "x_train.head()"
      ]
    },
    {
      "cell_type": "code",
      "execution_count": null,
      "metadata": {
        "colab": {
          "base_uri": "https://localhost:8080/"
        },
        "id": "uh9RLJl7h0Ux",
        "outputId": "b2507d05-4703-4601-8b3e-5727181ba2f6"
      },
      "outputs": [
        {
          "output_type": "execute_result",
          "data": {
            "text/plain": [
              "((82332,), (82332, 177))"
            ]
          },
          "metadata": {},
          "execution_count": 40
        }
      ],
      "source": [
        "y_train.shape, x_train.shape"
      ]
    },
    {
      "cell_type": "code",
      "execution_count": null,
      "metadata": {
        "id": "ZP89xm6yh50R"
      },
      "outputs": [],
      "source": [
        "#x_train.to_csv(path+'datasets/t_train.csv', index=False)\n",
        "#y_train.to_csv(path+'datasets/p_test.csv', index=False)"
      ]
    },
    {
      "cell_type": "code",
      "source": [
        "x= pd.read_csv(path+'datasets/p_train.csv')\n",
        "y= pd.read_csv(path+'datasets/p_test.csv')"
      ],
      "metadata": {
        "id": "9i-VM_wTY57f"
      },
      "execution_count": null,
      "outputs": []
    },
    {
      "cell_type": "code",
      "execution_count": null,
      "metadata": {
        "id": "wYT3_YGusepG"
      },
      "outputs": [],
      "source": [
        "train = x.join(y)"
      ]
    },
    {
      "cell_type": "code",
      "execution_count": null,
      "metadata": {
        "id": "w6IMdyWhsfjR"
      },
      "outputs": [],
      "source": [
        "test = x_train.join(y_train)"
      ]
    },
    {
      "cell_type": "code",
      "source": [
        "train.shape, test.shape"
      ],
      "metadata": {
        "colab": {
          "base_uri": "https://localhost:8080/"
        },
        "id": "nmFxt7KkbOhT",
        "outputId": "515d6abe-1083-4072-c0ff-368c505f1592"
      },
      "execution_count": null,
      "outputs": [
        {
          "output_type": "execute_result",
          "data": {
            "text/plain": [
              "((175341, 182), (82332, 178))"
            ]
          },
          "metadata": {},
          "execution_count": 50
        }
      ]
    },
    {
      "cell_type": "code",
      "source": [
        "common_features = list(set(train.columns) & set(test.columns))"
      ],
      "metadata": {
        "id": "sPHNg-YRbQWa"
      },
      "execution_count": null,
      "outputs": []
    },
    {
      "cell_type": "code",
      "source": [
        "train = train[common_features]\n",
        "test = test[common_features]"
      ],
      "metadata": {
        "id": "xb4WXf1sbflM"
      },
      "execution_count": null,
      "outputs": []
    },
    {
      "cell_type": "code",
      "source": [
        "train[common_features]"
      ],
      "metadata": {
        "colab": {
          "base_uri": "https://localhost:8080/",
          "height": 505
        },
        "id": "sP67JSEAbc_q",
        "outputId": "39c82ac4-eda6-4873-f50b-ba28a6c41b83"
      },
      "execution_count": null,
      "outputs": [
        {
          "output_type": "execute_result",
          "data": {
            "text/plain": [
              "        service_ssh  proto_ifmp  proto_eigrp  proto_igmp  proto_secure-vmtp  \\\n",
              "0               0.0         0.0          0.0         0.0                0.0   \n",
              "1               0.0         0.0          0.0         0.0                0.0   \n",
              "2               0.0         0.0          0.0         0.0                0.0   \n",
              "3               0.0         0.0          0.0         0.0                0.0   \n",
              "4               0.0         0.0          0.0         0.0                0.0   \n",
              "...             ...         ...          ...         ...                ...   \n",
              "175336          0.0         0.0          0.0         0.0                0.0   \n",
              "175337          0.0         0.0          0.0         0.0                0.0   \n",
              "175338          0.0         0.0          0.0         0.0                0.0   \n",
              "175339          0.0         0.0          0.0         0.0                0.0   \n",
              "175340          0.0         0.0          0.0         0.0                0.0   \n",
              "\n",
              "        service_pop3  response_body_len  proto_etherip  proto_sprite-rpc  \\\n",
              "0                0.0          -0.039557            0.0               0.0   \n",
              "1                0.0          -0.039557            0.0               0.0   \n",
              "2                0.0          -0.039557            0.0               0.0   \n",
              "3                0.0          -0.039557            0.0               0.0   \n",
              "4                0.0          -0.039557            0.0               0.0   \n",
              "...              ...                ...            ...               ...   \n",
              "175336           0.0          -0.039557            0.0               0.0   \n",
              "175337           0.0          -0.039557            0.0               0.0   \n",
              "175338           0.0          -0.039557            0.0               0.0   \n",
              "175339           0.0          -0.039557            0.0               0.0   \n",
              "175340           0.0          -0.039557            0.0               0.0   \n",
              "\n",
              "        state_FIN  ...  proto_cbt  proto_ipcomp  proto_a/n  proto_crtp  \\\n",
              "0             1.0  ...        0.0           0.0        0.0         0.0   \n",
              "1             1.0  ...        0.0           0.0        0.0         0.0   \n",
              "2             1.0  ...        0.0           0.0        0.0         0.0   \n",
              "3             1.0  ...        0.0           0.0        0.0         0.0   \n",
              "4             1.0  ...        0.0           0.0        0.0         0.0   \n",
              "...           ...  ...        ...           ...        ...         ...   \n",
              "175336        0.0  ...        0.0           0.0        0.0         0.0   \n",
              "175337        1.0  ...        0.0           0.0        0.0         0.0   \n",
              "175338        0.0  ...        0.0           0.0        0.0         0.0   \n",
              "175339        0.0  ...        0.0           0.0        0.0         0.0   \n",
              "175340        0.0  ...        0.0           0.0        0.0         0.0   \n",
              "\n",
              "        proto_unas  proto_pri-enc  proto_ipv6-opts  proto_scps     dload  \\\n",
              "0              0.0            0.0              0.0         0.0 -0.273700   \n",
              "1              0.0            0.0              0.0         0.0 -0.069233   \n",
              "2              0.0            0.0              0.0         0.0 -0.252044   \n",
              "3              0.0            0.0              0.0         0.0 -0.275821   \n",
              "4              0.0            0.0              0.0         0.0 -0.275561   \n",
              "...            ...            ...              ...         ...       ...   \n",
              "175336         0.0            0.0              0.0         0.0 -0.277208   \n",
              "175337         0.0            0.0              0.0         0.0 -0.275183   \n",
              "175338         0.0            0.0              0.0         0.0 -0.277208   \n",
              "175339         0.0            0.0              0.0         0.0 -0.277208   \n",
              "175340         0.0            0.0              0.0         0.0 -0.277208   \n",
              "\n",
              "        proto_tcf  \n",
              "0             0.0  \n",
              "1             0.0  \n",
              "2             0.0  \n",
              "3             0.0  \n",
              "4             0.0  \n",
              "...           ...  \n",
              "175336        0.0  \n",
              "175337        0.0  \n",
              "175338        0.0  \n",
              "175339        0.0  \n",
              "175340        0.0  \n",
              "\n",
              "[175341 rows x 176 columns]"
            ],
            "text/html": [
              "\n",
              "  <div id=\"df-224f8419-2b9a-4318-9bc5-563488a9a523\">\n",
              "    <div class=\"colab-df-container\">\n",
              "      <div>\n",
              "<style scoped>\n",
              "    .dataframe tbody tr th:only-of-type {\n",
              "        vertical-align: middle;\n",
              "    }\n",
              "\n",
              "    .dataframe tbody tr th {\n",
              "        vertical-align: top;\n",
              "    }\n",
              "\n",
              "    .dataframe thead th {\n",
              "        text-align: right;\n",
              "    }\n",
              "</style>\n",
              "<table border=\"1\" class=\"dataframe\">\n",
              "  <thead>\n",
              "    <tr style=\"text-align: right;\">\n",
              "      <th></th>\n",
              "      <th>service_ssh</th>\n",
              "      <th>proto_ifmp</th>\n",
              "      <th>proto_eigrp</th>\n",
              "      <th>proto_igmp</th>\n",
              "      <th>proto_secure-vmtp</th>\n",
              "      <th>service_pop3</th>\n",
              "      <th>response_body_len</th>\n",
              "      <th>proto_etherip</th>\n",
              "      <th>proto_sprite-rpc</th>\n",
              "      <th>state_FIN</th>\n",
              "      <th>...</th>\n",
              "      <th>proto_cbt</th>\n",
              "      <th>proto_ipcomp</th>\n",
              "      <th>proto_a/n</th>\n",
              "      <th>proto_crtp</th>\n",
              "      <th>proto_unas</th>\n",
              "      <th>proto_pri-enc</th>\n",
              "      <th>proto_ipv6-opts</th>\n",
              "      <th>proto_scps</th>\n",
              "      <th>dload</th>\n",
              "      <th>proto_tcf</th>\n",
              "    </tr>\n",
              "  </thead>\n",
              "  <tbody>\n",
              "    <tr>\n",
              "      <th>0</th>\n",
              "      <td>0.0</td>\n",
              "      <td>0.0</td>\n",
              "      <td>0.0</td>\n",
              "      <td>0.0</td>\n",
              "      <td>0.0</td>\n",
              "      <td>0.0</td>\n",
              "      <td>-0.039557</td>\n",
              "      <td>0.0</td>\n",
              "      <td>0.0</td>\n",
              "      <td>1.0</td>\n",
              "      <td>...</td>\n",
              "      <td>0.0</td>\n",
              "      <td>0.0</td>\n",
              "      <td>0.0</td>\n",
              "      <td>0.0</td>\n",
              "      <td>0.0</td>\n",
              "      <td>0.0</td>\n",
              "      <td>0.0</td>\n",
              "      <td>0.0</td>\n",
              "      <td>-0.273700</td>\n",
              "      <td>0.0</td>\n",
              "    </tr>\n",
              "    <tr>\n",
              "      <th>1</th>\n",
              "      <td>0.0</td>\n",
              "      <td>0.0</td>\n",
              "      <td>0.0</td>\n",
              "      <td>0.0</td>\n",
              "      <td>0.0</td>\n",
              "      <td>0.0</td>\n",
              "      <td>-0.039557</td>\n",
              "      <td>0.0</td>\n",
              "      <td>0.0</td>\n",
              "      <td>1.0</td>\n",
              "      <td>...</td>\n",
              "      <td>0.0</td>\n",
              "      <td>0.0</td>\n",
              "      <td>0.0</td>\n",
              "      <td>0.0</td>\n",
              "      <td>0.0</td>\n",
              "      <td>0.0</td>\n",
              "      <td>0.0</td>\n",
              "      <td>0.0</td>\n",
              "      <td>-0.069233</td>\n",
              "      <td>0.0</td>\n",
              "    </tr>\n",
              "    <tr>\n",
              "      <th>2</th>\n",
              "      <td>0.0</td>\n",
              "      <td>0.0</td>\n",
              "      <td>0.0</td>\n",
              "      <td>0.0</td>\n",
              "      <td>0.0</td>\n",
              "      <td>0.0</td>\n",
              "      <td>-0.039557</td>\n",
              "      <td>0.0</td>\n",
              "      <td>0.0</td>\n",
              "      <td>1.0</td>\n",
              "      <td>...</td>\n",
              "      <td>0.0</td>\n",
              "      <td>0.0</td>\n",
              "      <td>0.0</td>\n",
              "      <td>0.0</td>\n",
              "      <td>0.0</td>\n",
              "      <td>0.0</td>\n",
              "      <td>0.0</td>\n",
              "      <td>0.0</td>\n",
              "      <td>-0.252044</td>\n",
              "      <td>0.0</td>\n",
              "    </tr>\n",
              "    <tr>\n",
              "      <th>3</th>\n",
              "      <td>0.0</td>\n",
              "      <td>0.0</td>\n",
              "      <td>0.0</td>\n",
              "      <td>0.0</td>\n",
              "      <td>0.0</td>\n",
              "      <td>0.0</td>\n",
              "      <td>-0.039557</td>\n",
              "      <td>0.0</td>\n",
              "      <td>0.0</td>\n",
              "      <td>1.0</td>\n",
              "      <td>...</td>\n",
              "      <td>0.0</td>\n",
              "      <td>0.0</td>\n",
              "      <td>0.0</td>\n",
              "      <td>0.0</td>\n",
              "      <td>0.0</td>\n",
              "      <td>0.0</td>\n",
              "      <td>0.0</td>\n",
              "      <td>0.0</td>\n",
              "      <td>-0.275821</td>\n",
              "      <td>0.0</td>\n",
              "    </tr>\n",
              "    <tr>\n",
              "      <th>4</th>\n",
              "      <td>0.0</td>\n",
              "      <td>0.0</td>\n",
              "      <td>0.0</td>\n",
              "      <td>0.0</td>\n",
              "      <td>0.0</td>\n",
              "      <td>0.0</td>\n",
              "      <td>-0.039557</td>\n",
              "      <td>0.0</td>\n",
              "      <td>0.0</td>\n",
              "      <td>1.0</td>\n",
              "      <td>...</td>\n",
              "      <td>0.0</td>\n",
              "      <td>0.0</td>\n",
              "      <td>0.0</td>\n",
              "      <td>0.0</td>\n",
              "      <td>0.0</td>\n",
              "      <td>0.0</td>\n",
              "      <td>0.0</td>\n",
              "      <td>0.0</td>\n",
              "      <td>-0.275561</td>\n",
              "      <td>0.0</td>\n",
              "    </tr>\n",
              "    <tr>\n",
              "      <th>...</th>\n",
              "      <td>...</td>\n",
              "      <td>...</td>\n",
              "      <td>...</td>\n",
              "      <td>...</td>\n",
              "      <td>...</td>\n",
              "      <td>...</td>\n",
              "      <td>...</td>\n",
              "      <td>...</td>\n",
              "      <td>...</td>\n",
              "      <td>...</td>\n",
              "      <td>...</td>\n",
              "      <td>...</td>\n",
              "      <td>...</td>\n",
              "      <td>...</td>\n",
              "      <td>...</td>\n",
              "      <td>...</td>\n",
              "      <td>...</td>\n",
              "      <td>...</td>\n",
              "      <td>...</td>\n",
              "      <td>...</td>\n",
              "      <td>...</td>\n",
              "    </tr>\n",
              "    <tr>\n",
              "      <th>175336</th>\n",
              "      <td>0.0</td>\n",
              "      <td>0.0</td>\n",
              "      <td>0.0</td>\n",
              "      <td>0.0</td>\n",
              "      <td>0.0</td>\n",
              "      <td>0.0</td>\n",
              "      <td>-0.039557</td>\n",
              "      <td>0.0</td>\n",
              "      <td>0.0</td>\n",
              "      <td>0.0</td>\n",
              "      <td>...</td>\n",
              "      <td>0.0</td>\n",
              "      <td>0.0</td>\n",
              "      <td>0.0</td>\n",
              "      <td>0.0</td>\n",
              "      <td>0.0</td>\n",
              "      <td>0.0</td>\n",
              "      <td>0.0</td>\n",
              "      <td>0.0</td>\n",
              "      <td>-0.277208</td>\n",
              "      <td>0.0</td>\n",
              "    </tr>\n",
              "    <tr>\n",
              "      <th>175337</th>\n",
              "      <td>0.0</td>\n",
              "      <td>0.0</td>\n",
              "      <td>0.0</td>\n",
              "      <td>0.0</td>\n",
              "      <td>0.0</td>\n",
              "      <td>0.0</td>\n",
              "      <td>-0.039557</td>\n",
              "      <td>0.0</td>\n",
              "      <td>0.0</td>\n",
              "      <td>1.0</td>\n",
              "      <td>...</td>\n",
              "      <td>0.0</td>\n",
              "      <td>0.0</td>\n",
              "      <td>0.0</td>\n",
              "      <td>0.0</td>\n",
              "      <td>0.0</td>\n",
              "      <td>0.0</td>\n",
              "      <td>0.0</td>\n",
              "      <td>0.0</td>\n",
              "      <td>-0.275183</td>\n",
              "      <td>0.0</td>\n",
              "    </tr>\n",
              "    <tr>\n",
              "      <th>175338</th>\n",
              "      <td>0.0</td>\n",
              "      <td>0.0</td>\n",
              "      <td>0.0</td>\n",
              "      <td>0.0</td>\n",
              "      <td>0.0</td>\n",
              "      <td>0.0</td>\n",
              "      <td>-0.039557</td>\n",
              "      <td>0.0</td>\n",
              "      <td>0.0</td>\n",
              "      <td>0.0</td>\n",
              "      <td>...</td>\n",
              "      <td>0.0</td>\n",
              "      <td>0.0</td>\n",
              "      <td>0.0</td>\n",
              "      <td>0.0</td>\n",
              "      <td>0.0</td>\n",
              "      <td>0.0</td>\n",
              "      <td>0.0</td>\n",
              "      <td>0.0</td>\n",
              "      <td>-0.277208</td>\n",
              "      <td>0.0</td>\n",
              "    </tr>\n",
              "    <tr>\n",
              "      <th>175339</th>\n",
              "      <td>0.0</td>\n",
              "      <td>0.0</td>\n",
              "      <td>0.0</td>\n",
              "      <td>0.0</td>\n",
              "      <td>0.0</td>\n",
              "      <td>0.0</td>\n",
              "      <td>-0.039557</td>\n",
              "      <td>0.0</td>\n",
              "      <td>0.0</td>\n",
              "      <td>0.0</td>\n",
              "      <td>...</td>\n",
              "      <td>0.0</td>\n",
              "      <td>0.0</td>\n",
              "      <td>0.0</td>\n",
              "      <td>0.0</td>\n",
              "      <td>0.0</td>\n",
              "      <td>0.0</td>\n",
              "      <td>0.0</td>\n",
              "      <td>0.0</td>\n",
              "      <td>-0.277208</td>\n",
              "      <td>0.0</td>\n",
              "    </tr>\n",
              "    <tr>\n",
              "      <th>175340</th>\n",
              "      <td>0.0</td>\n",
              "      <td>0.0</td>\n",
              "      <td>0.0</td>\n",
              "      <td>0.0</td>\n",
              "      <td>0.0</td>\n",
              "      <td>0.0</td>\n",
              "      <td>-0.039557</td>\n",
              "      <td>0.0</td>\n",
              "      <td>0.0</td>\n",
              "      <td>0.0</td>\n",
              "      <td>...</td>\n",
              "      <td>0.0</td>\n",
              "      <td>0.0</td>\n",
              "      <td>0.0</td>\n",
              "      <td>0.0</td>\n",
              "      <td>0.0</td>\n",
              "      <td>0.0</td>\n",
              "      <td>0.0</td>\n",
              "      <td>0.0</td>\n",
              "      <td>-0.277208</td>\n",
              "      <td>0.0</td>\n",
              "    </tr>\n",
              "  </tbody>\n",
              "</table>\n",
              "<p>175341 rows × 176 columns</p>\n",
              "</div>\n",
              "      <button class=\"colab-df-convert\" onclick=\"convertToInteractive('df-224f8419-2b9a-4318-9bc5-563488a9a523')\"\n",
              "              title=\"Convert this dataframe to an interactive table.\"\n",
              "              style=\"display:none;\">\n",
              "        \n",
              "  <svg xmlns=\"http://www.w3.org/2000/svg\" height=\"24px\"viewBox=\"0 0 24 24\"\n",
              "       width=\"24px\">\n",
              "    <path d=\"M0 0h24v24H0V0z\" fill=\"none\"/>\n",
              "    <path d=\"M18.56 5.44l.94 2.06.94-2.06 2.06-.94-2.06-.94-.94-2.06-.94 2.06-2.06.94zm-11 1L8.5 8.5l.94-2.06 2.06-.94-2.06-.94L8.5 2.5l-.94 2.06-2.06.94zm10 10l.94 2.06.94-2.06 2.06-.94-2.06-.94-.94-2.06-.94 2.06-2.06.94z\"/><path d=\"M17.41 7.96l-1.37-1.37c-.4-.4-.92-.59-1.43-.59-.52 0-1.04.2-1.43.59L10.3 9.45l-7.72 7.72c-.78.78-.78 2.05 0 2.83L4 21.41c.39.39.9.59 1.41.59.51 0 1.02-.2 1.41-.59l7.78-7.78 2.81-2.81c.8-.78.8-2.07 0-2.86zM5.41 20L4 18.59l7.72-7.72 1.47 1.35L5.41 20z\"/>\n",
              "  </svg>\n",
              "      </button>\n",
              "      \n",
              "  <style>\n",
              "    .colab-df-container {\n",
              "      display:flex;\n",
              "      flex-wrap:wrap;\n",
              "      gap: 12px;\n",
              "    }\n",
              "\n",
              "    .colab-df-convert {\n",
              "      background-color: #E8F0FE;\n",
              "      border: none;\n",
              "      border-radius: 50%;\n",
              "      cursor: pointer;\n",
              "      display: none;\n",
              "      fill: #1967D2;\n",
              "      height: 32px;\n",
              "      padding: 0 0 0 0;\n",
              "      width: 32px;\n",
              "    }\n",
              "\n",
              "    .colab-df-convert:hover {\n",
              "      background-color: #E2EBFA;\n",
              "      box-shadow: 0px 1px 2px rgba(60, 64, 67, 0.3), 0px 1px 3px 1px rgba(60, 64, 67, 0.15);\n",
              "      fill: #174EA6;\n",
              "    }\n",
              "\n",
              "    [theme=dark] .colab-df-convert {\n",
              "      background-color: #3B4455;\n",
              "      fill: #D2E3FC;\n",
              "    }\n",
              "\n",
              "    [theme=dark] .colab-df-convert:hover {\n",
              "      background-color: #434B5C;\n",
              "      box-shadow: 0px 1px 3px 1px rgba(0, 0, 0, 0.15);\n",
              "      filter: drop-shadow(0px 1px 2px rgba(0, 0, 0, 0.3));\n",
              "      fill: #FFFFFF;\n",
              "    }\n",
              "  </style>\n",
              "\n",
              "      <script>\n",
              "        const buttonEl =\n",
              "          document.querySelector('#df-224f8419-2b9a-4318-9bc5-563488a9a523 button.colab-df-convert');\n",
              "        buttonEl.style.display =\n",
              "          google.colab.kernel.accessAllowed ? 'block' : 'none';\n",
              "\n",
              "        async function convertToInteractive(key) {\n",
              "          const element = document.querySelector('#df-224f8419-2b9a-4318-9bc5-563488a9a523');\n",
              "          const dataTable =\n",
              "            await google.colab.kernel.invokeFunction('convertToInteractive',\n",
              "                                                     [key], {});\n",
              "          if (!dataTable) return;\n",
              "\n",
              "          const docLinkHtml = 'Like what you see? Visit the ' +\n",
              "            '<a target=\"_blank\" href=https://colab.research.google.com/notebooks/data_table.ipynb>data table notebook</a>'\n",
              "            + ' to learn more about interactive tables.';\n",
              "          element.innerHTML = '';\n",
              "          dataTable['output_type'] = 'display_data';\n",
              "          await google.colab.output.renderOutput(dataTable, element);\n",
              "          const docLink = document.createElement('div');\n",
              "          docLink.innerHTML = docLinkHtml;\n",
              "          element.appendChild(docLink);\n",
              "        }\n",
              "      </script>\n",
              "    </div>\n",
              "  </div>\n",
              "  "
            ]
          },
          "metadata": {},
          "execution_count": 53
        }
      ]
    },
    {
      "cell_type": "code",
      "source": [
        "train = train.reindex(sorted(train.columns), axis=1)\n",
        "test = test.reindex(sorted(test.columns), axis=1)"
      ],
      "metadata": {
        "id": "USTJRO_Vbrgr"
      },
      "execution_count": null,
      "outputs": []
    },
    {
      "cell_type": "code",
      "source": [
        "train.shape, test.shape"
      ],
      "metadata": {
        "colab": {
          "base_uri": "https://localhost:8080/"
        },
        "id": "2MFi_e-NbufC",
        "outputId": "75856a6a-d29e-4094-872c-6f879ee3692a"
      },
      "execution_count": null,
      "outputs": [
        {
          "output_type": "execute_result",
          "data": {
            "text/plain": [
              "((175341, 176), (82332, 176))"
            ]
          },
          "metadata": {},
          "execution_count": 56
        }
      ]
    },
    {
      "cell_type": "code",
      "source": [
        "x_train, y_train = train.drop(columns=['label']), train['label']\n",
        "x_test, y_test = test.drop(columns=['label']), test['label']"
      ],
      "metadata": {
        "id": "zkg0TIiRbyBy"
      },
      "execution_count": null,
      "outputs": []
    },
    {
      "cell_type": "code",
      "source": [
        "x_train.shape, y_train.shape, x_test.shape, y_test.shape"
      ],
      "metadata": {
        "colab": {
          "base_uri": "https://localhost:8080/"
        },
        "id": "dyyw5zlwcPpC",
        "outputId": "f21d5d9b-6ad6-4015-e627-0e2e78a81138"
      },
      "execution_count": null,
      "outputs": [
        {
          "output_type": "execute_result",
          "data": {
            "text/plain": [
              "((175341, 175), (175341,), (82332, 175), (82332,))"
            ]
          },
          "metadata": {},
          "execution_count": 59
        }
      ]
    },
    {
      "cell_type": "code",
      "source": [
        "train.head()"
      ],
      "metadata": {
        "colab": {
          "base_uri": "https://localhost:8080/",
          "height": 300
        },
        "id": "0Jh99CQzccWA",
        "outputId": "d9519cee-f2db-4163-d7bc-ce4a6837e261"
      },
      "execution_count": null,
      "outputs": [
        {
          "output_type": "execute_result",
          "data": {
            "text/plain": [
              "   ct_dst_ltm  ct_flw_http_mthd  ct_src_ltm  ct_srv_src  ct_state_ttl  \\\n",
              "0   -0.645013         -0.189768   -0.715714   -0.775991     -1.366486   \n",
              "1   -0.645013         -0.189768   -0.715714    3.147666     -0.318711   \n",
              "2   -0.520827         -0.189768   -0.595543   -0.215468     -0.318711   \n",
              "3   -0.520827         -0.189768   -0.595543   -0.775991     -0.318711   \n",
              "4   -0.520827         -0.189768   -0.595543    3.147666     -0.318711   \n",
              "\n",
              "     dinpkt      djit     dload     dmean     dpkts  ...  state_CON  \\\n",
              "0 -0.080885 -0.145905 -0.273700 -0.314240 -0.135769  ...        0.0   \n",
              "1 -0.073735  0.192913 -0.069233  3.800869  0.172599  ...        0.0   \n",
              "2  0.014711  2.663504 -0.252044  2.709185 -0.026933  ...        0.0   \n",
              "3  0.002046  1.080373 -0.275821 -0.232945 -0.063212  ...        0.0   \n",
              "4 -0.012721 -0.120301 -0.275561 -0.306498 -0.117630  ...        0.0   \n",
              "\n",
              "   state_FIN  state_INT  state_REQ  state_RST     stcpb      sttl      swin  \\\n",
              "0        1.0        0.0        0.0        0.0 -0.256392  0.703839  1.092456   \n",
              "1        1.0        0.0        0.0        0.0  0.331031 -1.141901  1.092456   \n",
              "2        1.0        0.0        0.0        0.0  0.846258 -1.141901  1.092456   \n",
              "3        1.0        0.0        0.0        0.0  0.101729 -1.141901  1.092456   \n",
              "4        1.0        0.0        0.0        0.0  1.082366  0.723268  1.092456   \n",
              "\n",
              "     tcprtt  trans_depth  \n",
              "0 -0.521660    -0.136415  \n",
              "1 -0.521660    -0.136415  \n",
              "2  0.888444    -0.136415  \n",
              "3 -0.521660    -0.136415  \n",
              "4  1.096172    -0.136415  \n",
              "\n",
              "[5 rows x 176 columns]"
            ],
            "text/html": [
              "\n",
              "  <div id=\"df-629ce9a9-5401-497c-83c5-f92e49a7ced0\">\n",
              "    <div class=\"colab-df-container\">\n",
              "      <div>\n",
              "<style scoped>\n",
              "    .dataframe tbody tr th:only-of-type {\n",
              "        vertical-align: middle;\n",
              "    }\n",
              "\n",
              "    .dataframe tbody tr th {\n",
              "        vertical-align: top;\n",
              "    }\n",
              "\n",
              "    .dataframe thead th {\n",
              "        text-align: right;\n",
              "    }\n",
              "</style>\n",
              "<table border=\"1\" class=\"dataframe\">\n",
              "  <thead>\n",
              "    <tr style=\"text-align: right;\">\n",
              "      <th></th>\n",
              "      <th>ct_dst_ltm</th>\n",
              "      <th>ct_flw_http_mthd</th>\n",
              "      <th>ct_src_ltm</th>\n",
              "      <th>ct_srv_src</th>\n",
              "      <th>ct_state_ttl</th>\n",
              "      <th>dinpkt</th>\n",
              "      <th>djit</th>\n",
              "      <th>dload</th>\n",
              "      <th>dmean</th>\n",
              "      <th>dpkts</th>\n",
              "      <th>...</th>\n",
              "      <th>state_CON</th>\n",
              "      <th>state_FIN</th>\n",
              "      <th>state_INT</th>\n",
              "      <th>state_REQ</th>\n",
              "      <th>state_RST</th>\n",
              "      <th>stcpb</th>\n",
              "      <th>sttl</th>\n",
              "      <th>swin</th>\n",
              "      <th>tcprtt</th>\n",
              "      <th>trans_depth</th>\n",
              "    </tr>\n",
              "  </thead>\n",
              "  <tbody>\n",
              "    <tr>\n",
              "      <th>0</th>\n",
              "      <td>-0.645013</td>\n",
              "      <td>-0.189768</td>\n",
              "      <td>-0.715714</td>\n",
              "      <td>-0.775991</td>\n",
              "      <td>-1.366486</td>\n",
              "      <td>-0.080885</td>\n",
              "      <td>-0.145905</td>\n",
              "      <td>-0.273700</td>\n",
              "      <td>-0.314240</td>\n",
              "      <td>-0.135769</td>\n",
              "      <td>...</td>\n",
              "      <td>0.0</td>\n",
              "      <td>1.0</td>\n",
              "      <td>0.0</td>\n",
              "      <td>0.0</td>\n",
              "      <td>0.0</td>\n",
              "      <td>-0.256392</td>\n",
              "      <td>0.703839</td>\n",
              "      <td>1.092456</td>\n",
              "      <td>-0.521660</td>\n",
              "      <td>-0.136415</td>\n",
              "    </tr>\n",
              "    <tr>\n",
              "      <th>1</th>\n",
              "      <td>-0.645013</td>\n",
              "      <td>-0.189768</td>\n",
              "      <td>-0.715714</td>\n",
              "      <td>3.147666</td>\n",
              "      <td>-0.318711</td>\n",
              "      <td>-0.073735</td>\n",
              "      <td>0.192913</td>\n",
              "      <td>-0.069233</td>\n",
              "      <td>3.800869</td>\n",
              "      <td>0.172599</td>\n",
              "      <td>...</td>\n",
              "      <td>0.0</td>\n",
              "      <td>1.0</td>\n",
              "      <td>0.0</td>\n",
              "      <td>0.0</td>\n",
              "      <td>0.0</td>\n",
              "      <td>0.331031</td>\n",
              "      <td>-1.141901</td>\n",
              "      <td>1.092456</td>\n",
              "      <td>-0.521660</td>\n",
              "      <td>-0.136415</td>\n",
              "    </tr>\n",
              "    <tr>\n",
              "      <th>2</th>\n",
              "      <td>-0.520827</td>\n",
              "      <td>-0.189768</td>\n",
              "      <td>-0.595543</td>\n",
              "      <td>-0.215468</td>\n",
              "      <td>-0.318711</td>\n",
              "      <td>0.014711</td>\n",
              "      <td>2.663504</td>\n",
              "      <td>-0.252044</td>\n",
              "      <td>2.709185</td>\n",
              "      <td>-0.026933</td>\n",
              "      <td>...</td>\n",
              "      <td>0.0</td>\n",
              "      <td>1.0</td>\n",
              "      <td>0.0</td>\n",
              "      <td>0.0</td>\n",
              "      <td>0.0</td>\n",
              "      <td>0.846258</td>\n",
              "      <td>-1.141901</td>\n",
              "      <td>1.092456</td>\n",
              "      <td>0.888444</td>\n",
              "      <td>-0.136415</td>\n",
              "    </tr>\n",
              "    <tr>\n",
              "      <th>3</th>\n",
              "      <td>-0.520827</td>\n",
              "      <td>-0.189768</td>\n",
              "      <td>-0.595543</td>\n",
              "      <td>-0.775991</td>\n",
              "      <td>-0.318711</td>\n",
              "      <td>0.002046</td>\n",
              "      <td>1.080373</td>\n",
              "      <td>-0.275821</td>\n",
              "      <td>-0.232945</td>\n",
              "      <td>-0.063212</td>\n",
              "      <td>...</td>\n",
              "      <td>0.0</td>\n",
              "      <td>1.0</td>\n",
              "      <td>0.0</td>\n",
              "      <td>0.0</td>\n",
              "      <td>0.0</td>\n",
              "      <td>0.101729</td>\n",
              "      <td>-1.141901</td>\n",
              "      <td>1.092456</td>\n",
              "      <td>-0.521660</td>\n",
              "      <td>-0.136415</td>\n",
              "    </tr>\n",
              "    <tr>\n",
              "      <th>4</th>\n",
              "      <td>-0.520827</td>\n",
              "      <td>-0.189768</td>\n",
              "      <td>-0.595543</td>\n",
              "      <td>3.147666</td>\n",
              "      <td>-0.318711</td>\n",
              "      <td>-0.012721</td>\n",
              "      <td>-0.120301</td>\n",
              "      <td>-0.275561</td>\n",
              "      <td>-0.306498</td>\n",
              "      <td>-0.117630</td>\n",
              "      <td>...</td>\n",
              "      <td>0.0</td>\n",
              "      <td>1.0</td>\n",
              "      <td>0.0</td>\n",
              "      <td>0.0</td>\n",
              "      <td>0.0</td>\n",
              "      <td>1.082366</td>\n",
              "      <td>0.723268</td>\n",
              "      <td>1.092456</td>\n",
              "      <td>1.096172</td>\n",
              "      <td>-0.136415</td>\n",
              "    </tr>\n",
              "  </tbody>\n",
              "</table>\n",
              "<p>5 rows × 176 columns</p>\n",
              "</div>\n",
              "      <button class=\"colab-df-convert\" onclick=\"convertToInteractive('df-629ce9a9-5401-497c-83c5-f92e49a7ced0')\"\n",
              "              title=\"Convert this dataframe to an interactive table.\"\n",
              "              style=\"display:none;\">\n",
              "        \n",
              "  <svg xmlns=\"http://www.w3.org/2000/svg\" height=\"24px\"viewBox=\"0 0 24 24\"\n",
              "       width=\"24px\">\n",
              "    <path d=\"M0 0h24v24H0V0z\" fill=\"none\"/>\n",
              "    <path d=\"M18.56 5.44l.94 2.06.94-2.06 2.06-.94-2.06-.94-.94-2.06-.94 2.06-2.06.94zm-11 1L8.5 8.5l.94-2.06 2.06-.94-2.06-.94L8.5 2.5l-.94 2.06-2.06.94zm10 10l.94 2.06.94-2.06 2.06-.94-2.06-.94-.94-2.06-.94 2.06-2.06.94z\"/><path d=\"M17.41 7.96l-1.37-1.37c-.4-.4-.92-.59-1.43-.59-.52 0-1.04.2-1.43.59L10.3 9.45l-7.72 7.72c-.78.78-.78 2.05 0 2.83L4 21.41c.39.39.9.59 1.41.59.51 0 1.02-.2 1.41-.59l7.78-7.78 2.81-2.81c.8-.78.8-2.07 0-2.86zM5.41 20L4 18.59l7.72-7.72 1.47 1.35L5.41 20z\"/>\n",
              "  </svg>\n",
              "      </button>\n",
              "      \n",
              "  <style>\n",
              "    .colab-df-container {\n",
              "      display:flex;\n",
              "      flex-wrap:wrap;\n",
              "      gap: 12px;\n",
              "    }\n",
              "\n",
              "    .colab-df-convert {\n",
              "      background-color: #E8F0FE;\n",
              "      border: none;\n",
              "      border-radius: 50%;\n",
              "      cursor: pointer;\n",
              "      display: none;\n",
              "      fill: #1967D2;\n",
              "      height: 32px;\n",
              "      padding: 0 0 0 0;\n",
              "      width: 32px;\n",
              "    }\n",
              "\n",
              "    .colab-df-convert:hover {\n",
              "      background-color: #E2EBFA;\n",
              "      box-shadow: 0px 1px 2px rgba(60, 64, 67, 0.3), 0px 1px 3px 1px rgba(60, 64, 67, 0.15);\n",
              "      fill: #174EA6;\n",
              "    }\n",
              "\n",
              "    [theme=dark] .colab-df-convert {\n",
              "      background-color: #3B4455;\n",
              "      fill: #D2E3FC;\n",
              "    }\n",
              "\n",
              "    [theme=dark] .colab-df-convert:hover {\n",
              "      background-color: #434B5C;\n",
              "      box-shadow: 0px 1px 3px 1px rgba(0, 0, 0, 0.15);\n",
              "      filter: drop-shadow(0px 1px 2px rgba(0, 0, 0, 0.3));\n",
              "      fill: #FFFFFF;\n",
              "    }\n",
              "  </style>\n",
              "\n",
              "      <script>\n",
              "        const buttonEl =\n",
              "          document.querySelector('#df-629ce9a9-5401-497c-83c5-f92e49a7ced0 button.colab-df-convert');\n",
              "        buttonEl.style.display =\n",
              "          google.colab.kernel.accessAllowed ? 'block' : 'none';\n",
              "\n",
              "        async function convertToInteractive(key) {\n",
              "          const element = document.querySelector('#df-629ce9a9-5401-497c-83c5-f92e49a7ced0');\n",
              "          const dataTable =\n",
              "            await google.colab.kernel.invokeFunction('convertToInteractive',\n",
              "                                                     [key], {});\n",
              "          if (!dataTable) return;\n",
              "\n",
              "          const docLinkHtml = 'Like what you see? Visit the ' +\n",
              "            '<a target=\"_blank\" href=https://colab.research.google.com/notebooks/data_table.ipynb>data table notebook</a>'\n",
              "            + ' to learn more about interactive tables.';\n",
              "          element.innerHTML = '';\n",
              "          dataTable['output_type'] = 'display_data';\n",
              "          await google.colab.output.renderOutput(dataTable, element);\n",
              "          const docLink = document.createElement('div');\n",
              "          docLink.innerHTML = docLinkHtml;\n",
              "          element.appendChild(docLink);\n",
              "        }\n",
              "      </script>\n",
              "    </div>\n",
              "  </div>\n",
              "  "
            ]
          },
          "metadata": {},
          "execution_count": 62
        }
      ]
    },
    {
      "cell_type": "code",
      "source": [
        "x_train.to_csv(path+'datasets/p2_train.csv', index=False)\n",
        "y_train.to_csv(path+'datasets/p2_test.csv', index=False)"
      ],
      "metadata": {
        "id": "TQCFEHs0chHw"
      },
      "execution_count": null,
      "outputs": []
    },
    {
      "cell_type": "code",
      "source": [
        "test.shape"
      ],
      "metadata": {
        "colab": {
          "base_uri": "https://localhost:8080/"
        },
        "id": "Ia5_we5AcsFJ",
        "outputId": "723c1af3-7582-4d5f-b634-57f37f03cd6f"
      },
      "execution_count": null,
      "outputs": [
        {
          "output_type": "execute_result",
          "data": {
            "text/plain": [
              "(82332, 176)"
            ]
          },
          "metadata": {},
          "execution_count": 64
        }
      ]
    },
    {
      "cell_type": "code",
      "source": [
        "test.to_csv(path+'datasets/t2_test.csv', index=False)"
      ],
      "metadata": {
        "id": "-t1DfFmXczE5"
      },
      "execution_count": null,
      "outputs": []
    },
    {
      "cell_type": "code",
      "source": [],
      "metadata": {
        "id": "RiKNO8C8c7lv"
      },
      "execution_count": null,
      "outputs": []
    }
  ],
  "metadata": {
    "colab": {
      "machine_shape": "hm",
      "provenance": [],
      "authorship_tag": "ABX9TyOJ75GXm8M8qd1wpsUgsHJU",
      "include_colab_link": true
    },
    "gpuClass": "standard",
    "kernelspec": {
      "display_name": "Python 3",
      "name": "python3"
    },
    "language_info": {
      "name": "python"
    }
  },
  "nbformat": 4,
  "nbformat_minor": 0
}